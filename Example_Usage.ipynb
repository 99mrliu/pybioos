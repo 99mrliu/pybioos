{
 "cells": [
  {
   "cell_type": "markdown",
   "id": "70b506bd-b41c-406b-a1d2-a7f8cbc74dd3",
   "metadata": {},
   "source": [
    "## Import libs"
   ]
  },
  {
   "cell_type": "code",
   "execution_count": 1,
   "id": "d5abe510-1992-4e79-b9ed-8e278183b3c1",
   "metadata": {},
   "outputs": [],
   "source": [
    "from bioos import bioos\n",
    "from bioos.bioos_workflow import Bioos_workflow"
   ]
  },
  {
   "cell_type": "markdown",
   "id": "b3cf76ef-db34-4a66-883f-b7e062de2a54",
   "metadata": {},
   "source": [
    "## Login"
   ]
  },
  {
   "cell_type": "code",
   "execution_count": 2,
   "id": "c68ca819-f37c-4e53-8354-7e6389351a25",
   "metadata": {},
   "outputs": [
    {
     "data": {
      "text/plain": [
       "True"
      ]
     },
     "execution_count": 2,
     "metadata": {},
     "output_type": "execute_result"
    }
   ],
   "source": [
    "# login\n",
    "bioos.login(endpoint=\"https://bio-top.miracle.ac.cn\",\n",
    "            access_key=\"your AK\",\n",
    "            secret_key=\"your SK\"\n",
    "           )"
   ]
  },
  {
   "cell_type": "markdown",
   "id": "4a275ced-5e59-4328-842a-bc11bca1e050",
   "metadata": {},
   "source": [
    "## Create Bioos_workflow Object"
   ]
  },
  {
   "cell_type": "code",
   "execution_count": 4,
   "id": "b29e96bf-9728-449a-af34-50d106bb012c",
   "metadata": {},
   "outputs": [],
   "source": [
    "bw = Bioos_workflow(workspace_name='test-submission-by-code',workflow_name='Cram-to-Bam')"
   ]
  },
  {
   "cell_type": "markdown",
   "id": "8dc3e99b-3e4e-4f31-9379-0e09a9897052",
   "metadata": {},
   "source": [
    "## Preprocess the necessaries for a workflow submission"
   ]
  },
  {
   "cell_type": "code",
   "execution_count": 5,
   "id": "a5eb5744-29bb-495a-8991-c252a6a03ed7",
   "metadata": {},
   "outputs": [
    {
     "name": "stderr",
     "output_type": "stream",
     "text": [
      "2024-01-23 11:37:07,166 INFO: Load json input successfully.\n",
      "2024-01-23 11:37:07,446 INFO: Set data model successfully.\n",
      "2024-01-23 11:37:07,448 INFO: Build submission params successfully.\n"
     ]
    },
    {
     "data": {
      "text/plain": [
       "{'inputs': '{\"CramToBamFlow.CramToBamTask.disk_size\": \"this.disk_size\", \"CramToBamFlow.CramToBamTask.machine_mem_size\": \"this.machine_mem_size\", \"CramToBamFlow.gotc_docker\": \"this.gotc_docker\", \"CramToBamFlow.input_cram\": \"this.input_cram\", \"CramToBamFlow.ref_dict\": \"this.ref_dict\", \"CramToBamFlow.ref_fasta\": \"this.ref_fasta\", \"CramToBamFlow.ref_fasta_index\": \"this.ref_fasta_index\", \"CramToBamFlow.sample_name\": \"this.sample_name\"}',\n",
       " 'outputs': '{}',\n",
       " 'data_model_name': 'dm',\n",
       " 'row_ids': ['tmp_0'],\n",
       " 'submission_desc': 'Submit by pybioos',\n",
       " 'call_caching': True}"
      ]
     },
     "execution_count": 5,
     "metadata": {},
     "output_type": "execute_result"
    }
   ],
   "source": [
    "bw.preprocess(input_json_file='/Users/liujilong/develop/bioos/test/test2.json',\n",
    "             data_model_name='dm',\n",
    "             submission_desc='Submit by pybioos',\n",
    "             call_caching=True)"
   ]
  },
  {
   "cell_type": "markdown",
   "id": "7613eab5-993e-49c4-af60-fe8c8fb79761",
   "metadata": {},
   "source": [
    "## Submit workflow to selected Bio-OS backend"
   ]
  },
  {
   "cell_type": "code",
   "execution_count": 6,
   "id": "5f6707f3-e5c9-4e00-82d2-98c54f868a61",
   "metadata": {},
   "outputs": [
    {
     "name": "stderr",
     "output_type": "stream",
     "text": [
      "2024-01-23 11:37:07,672 INFO: Submit workflow run successfully.\n"
     ]
    },
    {
     "data": {
      "text/plain": [
       "[RunInfo:\n",
       " [\n",
       " id: rcmnj8oteig413ck1uhv0\n",
       " workspace_id: wcmiu1lleig413ck1uef0\n",
       " submission_id: scmnj8oteig413ck1uhug\n",
       " engine_run_id: None\n",
       " inputs: {\"CramToBamFlow.CramToBamTask.disk_size\":20,\"CramToBamFlow.CramToBamTask.machine_mem_size\":16,\"CramToBamFlow.gotc_docker\":\"registry-vpc.miracle.ac.cn/biocontainers/samtools:1.8--4\",\"CramToBamFlow.input_cram\":\"s3://bio2s-project-data/tutorials-data/cram-to-bam/sample-data/NA12878.cram\",\"CramToBamFlow.ref_dict\":\"s3://bioos-wcmiu1lleig413ck1uef0/input_provision/Homo_sapiens_assembly38.dict\",\"CramToBamFlow.ref_fasta\":\"s3://bio2s-project-data/tutorials-data/cram-to-bam/reference-data/Homo_sapiens_assembly38.fasta\",\"CramToBamFlow.ref_fasta_index\":\"s3://bioos-wcmiu1lleig413ck1uef0/input_provision/Homo_sapiens_assembly38.fasta.fai\",\"CramToBamFlow.sample_name\":\"dfdfasdf\"}\n",
       " outputs: \n",
       " log_path: None\n",
       " error_message: None\n",
       " duration: -1\n",
       " start_time: 1705981028\n",
       " finish_time: None\n",
       " status: Pending\n",
       " ]\n",
       " TasksInfo:\n",
       " []]"
      ]
     },
     "execution_count": 6,
     "metadata": {},
     "output_type": "execute_result"
    }
   ],
   "source": [
    " bw.submit_workflow_bioosapi()"
   ]
  },
  {
   "cell_type": "markdown",
   "id": "ecb53d92-f749-4405-a699-03fffffe30b6",
   "metadata": {},
   "source": [
    "## Check the status for the submitted run"
   ]
  },
  {
   "cell_type": "code",
   "execution_count": 7,
   "id": "296bc82b-fcaa-4a1d-960c-65228b40c87e",
   "metadata": {},
   "outputs": [
    {
     "data": {
      "text/plain": [
       "[RunInfo:\n",
       " [\n",
       " id: rcmnj8oteig413ck1uhv0\n",
       " workspace_id: wcmiu1lleig413ck1uef0\n",
       " submission_id: scmnj8oteig413ck1uhug\n",
       " engine_run_id: None\n",
       " inputs: {\"CramToBamFlow.CramToBamTask.disk_size\":20,\"CramToBamFlow.CramToBamTask.machine_mem_size\":16,\"CramToBamFlow.gotc_docker\":\"registry-vpc.miracle.ac.cn/biocontainers/samtools:1.8--4\",\"CramToBamFlow.input_cram\":\"s3://bio2s-project-data/tutorials-data/cram-to-bam/sample-data/NA12878.cram\",\"CramToBamFlow.ref_dict\":\"s3://bioos-wcmiu1lleig413ck1uef0/input_provision/Homo_sapiens_assembly38.dict\",\"CramToBamFlow.ref_fasta\":\"s3://bio2s-project-data/tutorials-data/cram-to-bam/reference-data/Homo_sapiens_assembly38.fasta\",\"CramToBamFlow.ref_fasta_index\":\"s3://bioos-wcmiu1lleig413ck1uef0/input_provision/Homo_sapiens_assembly38.fasta.fai\",\"CramToBamFlow.sample_name\":\"dfdfasdf\"}\n",
       " outputs: \n",
       " log_path: None\n",
       " error_message: None\n",
       " duration: -1\n",
       " start_time: 1705981028\n",
       " finish_time: None\n",
       " status: Pending\n",
       " ]\n",
       " TasksInfo:\n",
       " []]"
      ]
     },
     "execution_count": 7,
     "metadata": {},
     "output_type": "execute_result"
    }
   ],
   "source": [
    " bw.monitor_workflow()"
   ]
  },
  {
   "cell_type": "markdown",
   "id": "256a745e-ca60-4b6d-ab33-a3816aac17ca",
   "metadata": {},
   "source": [
    "## Postprocess for the run, download results to local for exsample"
   ]
  },
  {
   "cell_type": "code",
   "execution_count": 8,
   "id": "6aebe208-cdb0-4da1-ba28-d1adcede1415",
   "metadata": {},
   "outputs": [],
   "source": [
    "bw.postprocess()"
   ]
  },
  {
   "cell_type": "code",
   "execution_count": null,
   "id": "fd399152-0b78-47b9-8469-3f7a0e9d807b",
   "metadata": {},
   "outputs": [],
   "source": []
  }
 ],
 "metadata": {
  "kernelspec": {
   "display_name": "Python 3 (ipykernel)",
   "language": "python",
   "name": "python3"
  },
  "language_info": {
   "codemirror_mode": {
    "name": "ipython",
    "version": 3
   },
   "file_extension": ".py",
   "mimetype": "text/x-python",
   "name": "python",
   "nbconvert_exporter": "python",
   "pygments_lexer": "ipython3",
   "version": "3.12.1"
  }
 },
 "nbformat": 4,
 "nbformat_minor": 5
}
